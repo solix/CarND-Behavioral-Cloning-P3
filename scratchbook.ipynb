{
 "cells": [
  {
   "cell_type": "code",
   "execution_count": 1,
   "metadata": {
    "collapsed": true
   },
   "outputs": [],
   "source": [
    "import numpy as np\n",
    "import pandas as pd\n",
    "import cv2"
   ]
  },
  {
   "cell_type": "code",
   "execution_count": 3,
   "metadata": {},
   "outputs": [],
   "source": [
    "reader = pd.read_csv('./data/driving_log.csv', usecols=['center','left','right','steering'] )\n",
    "\n",
    "type(reader)\n",
    "\n",
    "imgs = []\n",
    "labels = []\n",
    "\n",
    "cache = [\"center\",\"left\",\"right\"]\n",
    "for index, row in reader.iterrows():\n",
    "    # print(row['center'], row['steering'])\n",
    "    \n",
    "    file_path_center = './data/' + row['center']\n",
    "    # file_path_left = './data/' + row['left']\n",
    "    # file_path_right= './data/' + row['right']\n",
    "    \n",
    "    img_CENTER = cv2.imread(file_path_center)\n",
    "    # img_LEFT = cv2.imread(file_path_left)\n",
    "    # img_RIGHT = cv2.imread(file_path_right)\n",
    "    steering_C = float(row['steering'])\n",
    "    # steering_L= float(row['steering'])+0.02\n",
    "    # steering_R = float(row['steering'])-0.02\n",
    "    imgs.append(img_CENTER)\n",
    "    labels.append(steering_C)\n",
    "    # imgs.append(img_LEFT)\n",
    "    # labels.append(steering_L)\n",
    "    # imgs.append(img_RIGHT)\n",
    "    # labels.append(steering_R)\n",
    "\n",
    "augmented_images , augmented_measurements = [],[]\n",
    "\n",
    "for image , mesure in zip(imgs,labels):\n",
    "    augmented_images.append(image)\n",
    "    augmented_measurements.append(mesure)\n",
    "    augmented_images.append(cv2.flip(image,1))\n",
    "    augmented_measurements.append(mesure*-1.0)"
   ]
  },
  {
   "cell_type": "code",
   "execution_count": 20,
   "metadata": {
    "collapsed": true
   },
   "outputs": [
    {
     "data": {
      "text/plain": [
       "(160, 320, 3)"
      ]
     },
     "execution_count": 20,
     "metadata": {},
     "output_type": "execute_result"
    }
   ],
   "source": [
    "X_train = np.array(augmented_images)\n",
    "y_train = np.array(augmented_measurements)\n",
    "\n",
    "\n",
    "    \n",
    "X_train[0].shape"
   ]
  },
  {
   "cell_type": "code",
   "execution_count": null,
   "metadata": {},
   "outputs": [],
   "source": [
    ""
   ]
  }
 ],
 "metadata": {
  "kernelspec": {
   "display_name": "Python 2",
   "language": "python",
   "name": "python2"
  },
  "language_info": {
   "codemirror_mode": {
    "name": "ipython",
    "version": 2.0
   },
   "file_extension": ".py",
   "mimetype": "text/x-python",
   "name": "python",
   "nbconvert_exporter": "python",
   "pygments_lexer": "ipython2",
   "version": "2.7.6"
  }
 },
 "nbformat": 4,
 "nbformat_minor": 0
}