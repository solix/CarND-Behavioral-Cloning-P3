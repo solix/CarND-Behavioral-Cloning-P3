{
 "cells": [
  {
   "cell_type": "code",
   "execution_count": 2,
   "metadata": {
    "collapsed": true
   },
   "outputs": [],
   "source": [
    "import numpy as np\n",
    "import pandas as pd\n",
    "import cv2"
   ]
  },
  {
   "cell_type": "code",
   "execution_count": 27,
   "metadata": {},
   "outputs": [
    {
     "data": {
      "text/plain": [
       "(8036, 160, 320, 3)"
      ]
     },
     "execution_count": 27,
     "metadata": {},
     "output_type": "execute_result"
    }
   ],
   "source": [
    "reader = pd.read_csv('./data/driving_log.csv', usecols=['center','left','right','steering'] )\n",
    "\n",
    "type(reader)\n",
    "\n",
    "imgs = []\n",
    "labels = []\n",
    "for index, row in reader.iterrows():\n",
    "    \n",
    "    # print(row['center'], row['steering'])\n",
    "    file_path = './data/'+row['center']\n",
    "    img = cv2.imread(file_path)\n",
    "    steering = float(row['steering'])\n",
    "    imgs.append(img)\n",
    "    labels.append(steering)\n",
    "\n",
    "X_train = np.array(imgs)\n",
    "y_train = np.array(labels)\n",
    "\n",
    "X_train.shape"
   ]
  },
  {
   "cell_type": "code",
   "execution_count": null,
   "metadata": {},
   "outputs": [],
   "source": [
    ""
   ]
  }
 ],
 "metadata": {
  "kernelspec": {
   "display_name": "Python 2",
   "language": "python",
   "name": "python2"
  },
  "language_info": {
   "codemirror_mode": {
    "name": "ipython",
    "version": 2.0
   },
   "file_extension": ".py",
   "mimetype": "text/x-python",
   "name": "python",
   "nbconvert_exporter": "python",
   "pygments_lexer": "ipython2",
   "version": "2.7.6"
  }
 },
 "nbformat": 4,
 "nbformat_minor": 0
}