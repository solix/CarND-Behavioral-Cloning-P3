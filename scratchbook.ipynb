{
 "cells": [
  {
   "cell_type": "code",
   "execution_count": 30,
   "metadata": {
    "collapsed": true
   },
   "outputs": [],
   "source": [
    "import numpy as np\n",
    "import pandas as pd\n",
    "import cv2"
   ]
  },
  {
   "cell_type": "code",
   "execution_count": 32,
   "metadata": {},
   "outputs": [],
   "source": [
    "reader = pd.read_csv('./data/driving_log.csv', usecols=['center','left','right','steering'] )\n",
    "\n",
    "type(reader)\n",
    "\n",
    "imgs = []\n",
    "labels = []\n",
    "\n",
    "for index, row in reader.iterrows():\n",
    "    \n",
    "    # print(row['center'], row['steering'])\n",
    "    file_path = './data/'+row['center']\n",
    "    img = cv2.imread(file_path)\n",
    "    steering = float(row['steering'])\n",
    "    imgs.append(img)\n",
    "    labels.append(steering)\n",
    "\n",
    "\n",
    "augmented_images , augmented_measurements = [],[]\n",
    "\n",
    "for image , mesure in zip(imgs,labels):\n",
    "    augmented_images.append(image)\n",
    "    augmented_measurements.append(mesure)\n",
    "    augmented_images.append(cv2.flip(image,1))\n",
    "    augmented_measurements.append(mesure*-1.0)"
   ]
  },
  {
   "cell_type": "code",
   "execution_count": 33,
   "metadata": {},
   "outputs": [
    {
     "data": {
      "text/plain": [
       "(16072, 160, 320, 3)"
      ]
     },
     "execution_count": 33,
     "metadata": {},
     "output_type": "execute_result"
    }
   ],
   "source": [
    "X_train = np.array(augmented_images)\n",
    "y_train = np.array(augmented_measurements)\n",
    "\n",
    "X_train.shape"
   ]
  },
  {
   "cell_type": "code",
   "execution_count": null,
   "metadata": {},
   "outputs": [],
   "source": [
    ""
   ]
  }
 ],
 "metadata": {
  "kernelspec": {
   "display_name": "Python 2",
   "language": "python",
   "name": "python2"
  },
  "language_info": {
   "codemirror_mode": {
    "name": "ipython",
    "version": 2.0
   },
   "file_extension": ".py",
   "mimetype": "text/x-python",
   "name": "python",
   "nbconvert_exporter": "python",
   "pygments_lexer": "ipython2",
   "version": "2.7.6"
  }
 },
 "nbformat": 4,
 "nbformat_minor": 0
}